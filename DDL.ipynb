{
 "cells": [
  {
   "cell_type": "code",
   "execution_count": 1,
   "metadata": {
    "collapsed": true
   },
   "outputs": [],
   "source": [
    "import sqlite3\n",
    "import pandas as pd\n",
    "\n",
    "%load_ext sql"
   ]
  },
  {
   "cell_type": "code",
   "execution_count": 2,
   "metadata": {},
   "outputs": [
    {
     "data": {
      "text/plain": [
       "'Connected: None@ons.db'"
      ]
     },
     "execution_count": 2,
     "metadata": {},
     "output_type": "execute_result"
    }
   ],
   "source": [
    "%sql sqlite:///ons.db"
   ]
  },
  {
   "cell_type": "markdown",
   "metadata": {},
   "source": [
    "## <u>Create Tables:</u>"
   ]
  },
  {
   "cell_type": "markdown",
   "metadata": {},
   "source": [
    "#### 1) Inventory \n",
    "\n",
    "#### 2) Location\n",
    "\n",
    "#### 3) Calendar\n",
    "\n",
    "#### 4) Contact\n",
    "\n",
    "#### 5) Sales"
   ]
  },
  {
   "cell_type": "code",
   "execution_count": 3,
   "metadata": {},
   "outputs": [
    {
     "name": "stdout",
     "output_type": "stream",
     "text": [
      "Done.\n"
     ]
    },
    {
     "data": {
      "text/plain": [
       "[]"
      ]
     },
     "execution_count": 3,
     "metadata": {},
     "output_type": "execute_result"
    }
   ],
   "source": [
    "%%sql\n",
    "CREATE TABLE Inventory(\n",
    "    ItemID INTEGER NOT NULL PRIMARY KEY,\n",
    "    DCS TEXT,\n",
    "    Style TEXT,\n",
    "    Category TEXT,\n",
    "    ColorDes TEXT,\n",
    "    Size TEXT,\n",
    "    Season TEXT,\n",
    "    RetailPrice INTEGER NOT NULL DEFAULT 0,\n",
    "    Cost INTEGER NOT NULL DEFAULT 0);"
   ]
  },
  {
   "cell_type": "code",
   "execution_count": 4,
   "metadata": {},
   "outputs": [
    {
     "name": "stdout",
     "output_type": "stream",
     "text": [
      "Done.\n"
     ]
    },
    {
     "data": {
      "text/plain": [
       "[]"
      ]
     },
     "execution_count": 4,
     "metadata": {},
     "output_type": "execute_result"
    }
   ],
   "source": [
    "%%sql\n",
    "CREATE TABLE Location(\n",
    "    LocationID REAL NOT NULL PRIMARY KEY,\n",
    "    LocationName TEXT,\n",
    "    Channel TEXT,\n",
    "    Type TEXT);"
   ]
  },
  {
   "cell_type": "code",
   "execution_count": 5,
   "metadata": {},
   "outputs": [
    {
     "name": "stdout",
     "output_type": "stream",
     "text": [
      "Done.\n"
     ]
    },
    {
     "data": {
      "text/plain": [
       "[]"
      ]
     },
     "execution_count": 5,
     "metadata": {},
     "output_type": "execute_result"
    }
   ],
   "source": [
    "%%sql\n",
    "CREATE TABLE Calendar(\n",
    "    Date TEXT NOT NULL PRIMARY KEY,\n",
    "    WeekCode INTEGER NOT NULL DEFAULT 0,\n",
    "    WeekNo INTEGER NOT NULL DEFAULT 0,\n",
    "    MonthNo INTEGER NOT NULL DEFAULT 0,\n",
    "    Month TEXT NOT NULL DEFAULT 0,\n",
    "    MonthWeek TEXT NOT NULL DEFAULT 0,\n",
    "    Quarter INTEGER NOT NULL DEFAULT 0,\n",
    "    Year INTEGER NOT NULL DEFAULT 0, \n",
    "    YearMonth TEXT NOT NULL DEFAULT 0,\n",
    "    SSSeas TEXT NOT NULL DEFAULT 0);"
   ]
  },
  {
   "cell_type": "code",
   "execution_count": 6,
   "metadata": {},
   "outputs": [
    {
     "name": "stdout",
     "output_type": "stream",
     "text": [
      "Done.\n"
     ]
    },
    {
     "data": {
      "text/plain": [
       "[]"
      ]
     },
     "execution_count": 6,
     "metadata": {},
     "output_type": "execute_result"
    }
   ],
   "source": [
    "%%sql\n",
    "CREATE TABLE Contact(\n",
    "    CustomerID INTEGER NOT NULL PRIMARY KEY, \n",
    "    FirstName TEXT,\n",
    "    LastName TEXT,\n",
    "    CustomerEmail TEXT);"
   ]
  },
  {
   "cell_type": "code",
   "execution_count": 17,
   "metadata": {},
   "outputs": [
    {
     "name": "stdout",
     "output_type": "stream",
     "text": [
      "Done.\n"
     ]
    },
    {
     "data": {
      "text/plain": [
       "[]"
      ]
     },
     "execution_count": 17,
     "metadata": {},
     "output_type": "execute_result"
    }
   ],
   "source": [
    "%%sql\n",
    "CREATE TABLE Sales (\n",
    "    LocationID TEXT NOT NULL,\n",
    "    ItemID INTEGER NOT NULL,\n",
    "    Date TEXT NOT NULL,\n",
    "    CustomerEmail TEXT,\n",
    "    OrderName TEXT NOT NULL,\n",
    "    SaleKind TEXT NOT NULL,\n",
    "    StaffName TEXT,\n",
    "    Discounts INTEGER NOT NULL DEFAULT 0,\n",
    "    NetSales INTEGER NOT NULL DEFAULT 0,\n",
    "    Shipping INTEGER NOT NULL DEFAULT 0,\n",
    "    Tax INTEGER NOT NULL DEFAULT 0, \n",
    "    NetQuantity INTEGER NOT NULL DEFAULT 0,\n",
    "    FOREIGN KEY (LocationID) REFERENCES Location (LocationID),\n",
    "    FOREIGN KEY (ItemID) REFERENCES Inventory (ItemID),\n",
    "    FOREIGN KEY (Date) REFERENCES Calendar (Date),\n",
    "    FOREIGN KEY (CustomerEmail) REFERENCES Customer (CustomerEmail));"
   ]
  },
  {
   "cell_type": "markdown",
   "metadata": {},
   "source": [
    "## Check tables"
   ]
  },
  {
   "cell_type": "code",
   "execution_count": 8,
   "metadata": {},
   "outputs": [
    {
     "name": "stdout",
     "output_type": "stream",
     "text": [
      "Done.\n"
     ]
    },
    {
     "data": {
      "text/html": [
       "<table>\n",
       "    <tr>\n",
       "        <th>cid</th>\n",
       "        <th>name</th>\n",
       "        <th>type</th>\n",
       "        <th>notnull</th>\n",
       "        <th>dflt_value</th>\n",
       "        <th>pk</th>\n",
       "    </tr>\n",
       "    <tr>\n",
       "        <td>0</td>\n",
       "        <td>LocationID</td>\n",
       "        <td>REAL</td>\n",
       "        <td>1</td>\n",
       "        <td>None</td>\n",
       "        <td>1</td>\n",
       "    </tr>\n",
       "    <tr>\n",
       "        <td>1</td>\n",
       "        <td>LocationName</td>\n",
       "        <td>TEXT</td>\n",
       "        <td>0</td>\n",
       "        <td>None</td>\n",
       "        <td>0</td>\n",
       "    </tr>\n",
       "    <tr>\n",
       "        <td>2</td>\n",
       "        <td>Channel</td>\n",
       "        <td>TEXT</td>\n",
       "        <td>0</td>\n",
       "        <td>None</td>\n",
       "        <td>0</td>\n",
       "    </tr>\n",
       "    <tr>\n",
       "        <td>3</td>\n",
       "        <td>Type</td>\n",
       "        <td>TEXT</td>\n",
       "        <td>0</td>\n",
       "        <td>None</td>\n",
       "        <td>0</td>\n",
       "    </tr>\n",
       "</table>"
      ],
      "text/plain": [
       "[(0, 'LocationID', 'REAL', 1, None, 1),\n",
       " (1, 'LocationName', 'TEXT', 0, None, 0),\n",
       " (2, 'Channel', 'TEXT', 0, None, 0),\n",
       " (3, 'Type', 'TEXT', 0, None, 0)]"
      ]
     },
     "execution_count": 8,
     "metadata": {},
     "output_type": "execute_result"
    }
   ],
   "source": [
    "%%sql\n",
    "pragma table_info('Location')"
   ]
  },
  {
   "cell_type": "code",
   "execution_count": 9,
   "metadata": {},
   "outputs": [
    {
     "name": "stdout",
     "output_type": "stream",
     "text": [
      "Done.\n"
     ]
    },
    {
     "data": {
      "text/html": [
       "<table>\n",
       "    <tr>\n",
       "        <th>cid</th>\n",
       "        <th>name</th>\n",
       "        <th>type</th>\n",
       "        <th>notnull</th>\n",
       "        <th>dflt_value</th>\n",
       "        <th>pk</th>\n",
       "    </tr>\n",
       "    <tr>\n",
       "        <td>0</td>\n",
       "        <td>ItemID</td>\n",
       "        <td>INTEGER</td>\n",
       "        <td>1</td>\n",
       "        <td>None</td>\n",
       "        <td>1</td>\n",
       "    </tr>\n",
       "    <tr>\n",
       "        <td>1</td>\n",
       "        <td>DCS</td>\n",
       "        <td>TEXT</td>\n",
       "        <td>0</td>\n",
       "        <td>None</td>\n",
       "        <td>0</td>\n",
       "    </tr>\n",
       "    <tr>\n",
       "        <td>2</td>\n",
       "        <td>Style</td>\n",
       "        <td>TEXT</td>\n",
       "        <td>0</td>\n",
       "        <td>None</td>\n",
       "        <td>0</td>\n",
       "    </tr>\n",
       "    <tr>\n",
       "        <td>3</td>\n",
       "        <td>Category</td>\n",
       "        <td>TEXT</td>\n",
       "        <td>0</td>\n",
       "        <td>None</td>\n",
       "        <td>0</td>\n",
       "    </tr>\n",
       "    <tr>\n",
       "        <td>4</td>\n",
       "        <td>ColorDes</td>\n",
       "        <td>TEXT</td>\n",
       "        <td>0</td>\n",
       "        <td>None</td>\n",
       "        <td>0</td>\n",
       "    </tr>\n",
       "    <tr>\n",
       "        <td>5</td>\n",
       "        <td>Size</td>\n",
       "        <td>TEXT</td>\n",
       "        <td>0</td>\n",
       "        <td>None</td>\n",
       "        <td>0</td>\n",
       "    </tr>\n",
       "    <tr>\n",
       "        <td>6</td>\n",
       "        <td>Season</td>\n",
       "        <td>TEXT</td>\n",
       "        <td>0</td>\n",
       "        <td>None</td>\n",
       "        <td>0</td>\n",
       "    </tr>\n",
       "    <tr>\n",
       "        <td>7</td>\n",
       "        <td>RetailPrice</td>\n",
       "        <td>INTEGER</td>\n",
       "        <td>1</td>\n",
       "        <td>0</td>\n",
       "        <td>0</td>\n",
       "    </tr>\n",
       "    <tr>\n",
       "        <td>8</td>\n",
       "        <td>Cost</td>\n",
       "        <td>INTEGER</td>\n",
       "        <td>1</td>\n",
       "        <td>0</td>\n",
       "        <td>0</td>\n",
       "    </tr>\n",
       "</table>"
      ],
      "text/plain": [
       "[(0, 'ItemID', 'INTEGER', 1, None, 1),\n",
       " (1, 'DCS', 'TEXT', 0, None, 0),\n",
       " (2, 'Style', 'TEXT', 0, None, 0),\n",
       " (3, 'Category', 'TEXT', 0, None, 0),\n",
       " (4, 'ColorDes', 'TEXT', 0, None, 0),\n",
       " (5, 'Size', 'TEXT', 0, None, 0),\n",
       " (6, 'Season', 'TEXT', 0, None, 0),\n",
       " (7, 'RetailPrice', 'INTEGER', 1, '0', 0),\n",
       " (8, 'Cost', 'INTEGER', 1, '0', 0)]"
      ]
     },
     "execution_count": 9,
     "metadata": {},
     "output_type": "execute_result"
    }
   ],
   "source": [
    "%%sql\n",
    "pragma table_info('Inventory')"
   ]
  },
  {
   "cell_type": "code",
   "execution_count": 10,
   "metadata": {},
   "outputs": [
    {
     "name": "stdout",
     "output_type": "stream",
     "text": [
      "Done.\n"
     ]
    },
    {
     "data": {
      "text/html": [
       "<table>\n",
       "    <tr>\n",
       "        <th>cid</th>\n",
       "        <th>name</th>\n",
       "        <th>type</th>\n",
       "        <th>notnull</th>\n",
       "        <th>dflt_value</th>\n",
       "        <th>pk</th>\n",
       "    </tr>\n",
       "    <tr>\n",
       "        <td>0</td>\n",
       "        <td>CustomerID</td>\n",
       "        <td>INTEGER</td>\n",
       "        <td>1</td>\n",
       "        <td>None</td>\n",
       "        <td>1</td>\n",
       "    </tr>\n",
       "    <tr>\n",
       "        <td>1</td>\n",
       "        <td>FirstName</td>\n",
       "        <td>TEXT</td>\n",
       "        <td>0</td>\n",
       "        <td>None</td>\n",
       "        <td>0</td>\n",
       "    </tr>\n",
       "    <tr>\n",
       "        <td>2</td>\n",
       "        <td>LastName</td>\n",
       "        <td>TEXT</td>\n",
       "        <td>0</td>\n",
       "        <td>None</td>\n",
       "        <td>0</td>\n",
       "    </tr>\n",
       "    <tr>\n",
       "        <td>3</td>\n",
       "        <td>CustomerEmail</td>\n",
       "        <td>TEXT</td>\n",
       "        <td>0</td>\n",
       "        <td>None</td>\n",
       "        <td>0</td>\n",
       "    </tr>\n",
       "</table>"
      ],
      "text/plain": [
       "[(0, 'CustomerID', 'INTEGER', 1, None, 1),\n",
       " (1, 'FirstName', 'TEXT', 0, None, 0),\n",
       " (2, 'LastName', 'TEXT', 0, None, 0),\n",
       " (3, 'CustomerEmail', 'TEXT', 0, None, 0)]"
      ]
     },
     "execution_count": 10,
     "metadata": {},
     "output_type": "execute_result"
    }
   ],
   "source": [
    "%%sql\n",
    "pragma table_info('Contact')"
   ]
  },
  {
   "cell_type": "code",
   "execution_count": 11,
   "metadata": {},
   "outputs": [
    {
     "name": "stdout",
     "output_type": "stream",
     "text": [
      "Done.\n"
     ]
    },
    {
     "data": {
      "text/html": [
       "<table>\n",
       "    <tr>\n",
       "        <th>cid</th>\n",
       "        <th>name</th>\n",
       "        <th>type</th>\n",
       "        <th>notnull</th>\n",
       "        <th>dflt_value</th>\n",
       "        <th>pk</th>\n",
       "    </tr>\n",
       "    <tr>\n",
       "        <td>0</td>\n",
       "        <td>LocationID</td>\n",
       "        <td>TEXT</td>\n",
       "        <td>1</td>\n",
       "        <td>None</td>\n",
       "        <td>0</td>\n",
       "    </tr>\n",
       "    <tr>\n",
       "        <td>1</td>\n",
       "        <td>ItemID</td>\n",
       "        <td>INTEGER</td>\n",
       "        <td>1</td>\n",
       "        <td>None</td>\n",
       "        <td>0</td>\n",
       "    </tr>\n",
       "    <tr>\n",
       "        <td>2</td>\n",
       "        <td>Date</td>\n",
       "        <td>TEXT</td>\n",
       "        <td>1</td>\n",
       "        <td>None</td>\n",
       "        <td>0</td>\n",
       "    </tr>\n",
       "    <tr>\n",
       "        <td>3</td>\n",
       "        <td>CustomerEmail</td>\n",
       "        <td>TEXT</td>\n",
       "        <td>0</td>\n",
       "        <td>None</td>\n",
       "        <td>0</td>\n",
       "    </tr>\n",
       "    <tr>\n",
       "        <td>4</td>\n",
       "        <td>OrderName</td>\n",
       "        <td>TEXT</td>\n",
       "        <td>1</td>\n",
       "        <td>None</td>\n",
       "        <td>0</td>\n",
       "    </tr>\n",
       "    <tr>\n",
       "        <td>5</td>\n",
       "        <td>SaleKind</td>\n",
       "        <td>TEXT</td>\n",
       "        <td>1</td>\n",
       "        <td>None</td>\n",
       "        <td>0</td>\n",
       "    </tr>\n",
       "    <tr>\n",
       "        <td>6</td>\n",
       "        <td>Discounts</td>\n",
       "        <td>INTEGER</td>\n",
       "        <td>1</td>\n",
       "        <td>0</td>\n",
       "        <td>0</td>\n",
       "    </tr>\n",
       "    <tr>\n",
       "        <td>7</td>\n",
       "        <td>NetSales</td>\n",
       "        <td>INTEGER</td>\n",
       "        <td>1</td>\n",
       "        <td>0</td>\n",
       "        <td>0</td>\n",
       "    </tr>\n",
       "    <tr>\n",
       "        <td>8</td>\n",
       "        <td>Shipping</td>\n",
       "        <td>INTEGER</td>\n",
       "        <td>1</td>\n",
       "        <td>0</td>\n",
       "        <td>0</td>\n",
       "    </tr>\n",
       "    <tr>\n",
       "        <td>9</td>\n",
       "        <td>Tax</td>\n",
       "        <td>INTEGER</td>\n",
       "        <td>1</td>\n",
       "        <td>0</td>\n",
       "        <td>0</td>\n",
       "    </tr>\n",
       "    <tr>\n",
       "        <td>10</td>\n",
       "        <td>NetQuantity</td>\n",
       "        <td>INTEGER</td>\n",
       "        <td>1</td>\n",
       "        <td>0</td>\n",
       "        <td>0</td>\n",
       "    </tr>\n",
       "</table>"
      ],
      "text/plain": [
       "[(0, 'LocationID', 'TEXT', 1, None, 0),\n",
       " (1, 'ItemID', 'INTEGER', 1, None, 0),\n",
       " (2, 'Date', 'TEXT', 1, None, 0),\n",
       " (3, 'CustomerEmail', 'TEXT', 0, None, 0),\n",
       " (4, 'OrderName', 'TEXT', 1, None, 0),\n",
       " (5, 'SaleKind', 'TEXT', 1, None, 0),\n",
       " (6, 'Discounts', 'INTEGER', 1, '0', 0),\n",
       " (7, 'NetSales', 'INTEGER', 1, '0', 0),\n",
       " (8, 'Shipping', 'INTEGER', 1, '0', 0),\n",
       " (9, 'Tax', 'INTEGER', 1, '0', 0),\n",
       " (10, 'NetQuantity', 'INTEGER', 1, '0', 0)]"
      ]
     },
     "execution_count": 11,
     "metadata": {},
     "output_type": "execute_result"
    }
   ],
   "source": [
    "%%sql \n",
    "pragma table_info ('Sales')"
   ]
  },
  {
   "cell_type": "code",
   "execution_count": 12,
   "metadata": {},
   "outputs": [
    {
     "name": "stdout",
     "output_type": "stream",
     "text": [
      "Done.\n"
     ]
    },
    {
     "data": {
      "text/html": [
       "<table>\n",
       "    <tr>\n",
       "        <th>cid</th>\n",
       "        <th>name</th>\n",
       "        <th>type</th>\n",
       "        <th>notnull</th>\n",
       "        <th>dflt_value</th>\n",
       "        <th>pk</th>\n",
       "    </tr>\n",
       "    <tr>\n",
       "        <td>0</td>\n",
       "        <td>Date</td>\n",
       "        <td>TEXT</td>\n",
       "        <td>1</td>\n",
       "        <td>None</td>\n",
       "        <td>1</td>\n",
       "    </tr>\n",
       "    <tr>\n",
       "        <td>1</td>\n",
       "        <td>WeekCode</td>\n",
       "        <td>INTEGER</td>\n",
       "        <td>1</td>\n",
       "        <td>0</td>\n",
       "        <td>0</td>\n",
       "    </tr>\n",
       "    <tr>\n",
       "        <td>2</td>\n",
       "        <td>WeekNo</td>\n",
       "        <td>INTEGER</td>\n",
       "        <td>1</td>\n",
       "        <td>0</td>\n",
       "        <td>0</td>\n",
       "    </tr>\n",
       "    <tr>\n",
       "        <td>3</td>\n",
       "        <td>MonthNo</td>\n",
       "        <td>INTEGER</td>\n",
       "        <td>1</td>\n",
       "        <td>0</td>\n",
       "        <td>0</td>\n",
       "    </tr>\n",
       "    <tr>\n",
       "        <td>4</td>\n",
       "        <td>Month</td>\n",
       "        <td>TEXT</td>\n",
       "        <td>1</td>\n",
       "        <td>0</td>\n",
       "        <td>0</td>\n",
       "    </tr>\n",
       "    <tr>\n",
       "        <td>5</td>\n",
       "        <td>MonthWeek</td>\n",
       "        <td>TEXT</td>\n",
       "        <td>1</td>\n",
       "        <td>0</td>\n",
       "        <td>0</td>\n",
       "    </tr>\n",
       "    <tr>\n",
       "        <td>6</td>\n",
       "        <td>Quarter</td>\n",
       "        <td>INTEGER</td>\n",
       "        <td>1</td>\n",
       "        <td>0</td>\n",
       "        <td>0</td>\n",
       "    </tr>\n",
       "    <tr>\n",
       "        <td>7</td>\n",
       "        <td>Year</td>\n",
       "        <td>INTEGER</td>\n",
       "        <td>1</td>\n",
       "        <td>0</td>\n",
       "        <td>0</td>\n",
       "    </tr>\n",
       "    <tr>\n",
       "        <td>8</td>\n",
       "        <td>YearMonth</td>\n",
       "        <td>TEXT</td>\n",
       "        <td>1</td>\n",
       "        <td>0</td>\n",
       "        <td>0</td>\n",
       "    </tr>\n",
       "    <tr>\n",
       "        <td>9</td>\n",
       "        <td>SSSeas</td>\n",
       "        <td>TEXT</td>\n",
       "        <td>1</td>\n",
       "        <td>0</td>\n",
       "        <td>0</td>\n",
       "    </tr>\n",
       "</table>"
      ],
      "text/plain": [
       "[(0, 'Date', 'TEXT', 1, None, 1),\n",
       " (1, 'WeekCode', 'INTEGER', 1, '0', 0),\n",
       " (2, 'WeekNo', 'INTEGER', 1, '0', 0),\n",
       " (3, 'MonthNo', 'INTEGER', 1, '0', 0),\n",
       " (4, 'Month', 'TEXT', 1, '0', 0),\n",
       " (5, 'MonthWeek', 'TEXT', 1, '0', 0),\n",
       " (6, 'Quarter', 'INTEGER', 1, '0', 0),\n",
       " (7, 'Year', 'INTEGER', 1, '0', 0),\n",
       " (8, 'YearMonth', 'TEXT', 1, '0', 0),\n",
       " (9, 'SSSeas', 'TEXT', 1, '0', 0)]"
      ]
     },
     "execution_count": 12,
     "metadata": {},
     "output_type": "execute_result"
    }
   ],
   "source": [
    "%%sql\n",
    "pragma table_info('Calendar')"
   ]
  },
  {
   "cell_type": "code",
   "execution_count": null,
   "metadata": {
    "collapsed": true
   },
   "outputs": [],
   "source": []
  },
  {
   "cell_type": "code",
   "execution_count": null,
   "metadata": {
    "collapsed": true
   },
   "outputs": [],
   "source": []
  }
 ],
 "metadata": {
  "kernelspec": {
   "display_name": "Python 3",
   "language": "python",
   "name": "python3"
  },
  "language_info": {
   "codemirror_mode": {
    "name": "ipython",
    "version": 3
   },
   "file_extension": ".py",
   "mimetype": "text/x-python",
   "name": "python",
   "nbconvert_exporter": "python",
   "pygments_lexer": "ipython3",
   "version": "3.6.1"
  }
 },
 "nbformat": 4,
 "nbformat_minor": 2
}
